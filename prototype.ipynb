{
 "cells": [
  {
   "cell_type": "code",
   "execution_count": 81,
   "metadata": {},
   "outputs": [],
   "source": [
    "import tensorflow as tf\n",
    "import numpy as np\n",
    "import pandas as pd\n",
    "import pathlib\n",
    "import logging\n",
    "import warnings\n",
    "logging.basicConfig(level = logging.ERROR)\n",
    "warnings.filterwarnings(\"ignore\")"
   ]
  },
  {
   "cell_type": "code",
   "execution_count": 82,
   "metadata": {},
   "outputs": [],
   "source": [
    "DATA_DIR = pathlib.Path('./jpx-tokyo-stock-exchange-prediction')\n",
    "assert(DATA_DIR.exists())\n",
    "assert(DATA_DIR.is_dir())"
   ]
  },
  {
   "cell_type": "code",
   "execution_count": 83,
   "metadata": {},
   "outputs": [],
   "source": [
    "TRAIN_PREFIX = pathlib.Path(f\"{DATA_DIR}/train_files\")"
   ]
  },
  {
   "cell_type": "code",
   "execution_count": 84,
   "metadata": {},
   "outputs": [],
   "source": [
    "def var_to_df(path : pathlib.Path, verbose : bool = True ) -> pd.DataFrame:\n",
    "    df = pd.read_csv(path)\n",
    "    if verbose:\n",
    "        print(f\"======== {path.name} =========\")\n",
    "        print(df.info())\n",
    "        print(\"===============================\")\n",
    "    return df\n"
   ]
  },
  {
   "cell_type": "code",
   "execution_count": 85,
   "metadata": {},
   "outputs": [],
   "source": [
    "options = var_to_df(TRAIN_PREFIX / \"options.csv\", verbose =False)\n",
    "financials = var_to_df(TRAIN_PREFIX / \"financials.csv\", verbose = False)\n",
    "trades = var_to_df(TRAIN_PREFIX / \"trades.csv\", verbose = False)\n",
    "stock_prices = var_to_df(TRAIN_PREFIX / \"stock_prices.csv\", verbose = False)\n",
    "secondary_stock_prices = var_to_df(TRAIN_PREFIX / \"options.csv\", verbose = False)"
   ]
  },
  {
   "cell_type": "code",
   "execution_count": 92,
   "metadata": {},
   "outputs": [
    {
     "name": "stdout",
     "output_type": "stream",
     "text": [
      "<class 'pandas.core.frame.DataFrame'>\n",
      "<class 'pandas.core.frame.DataFrame'>\n",
      "<class 'pandas.core.frame.DataFrame'>\n",
      "<class 'pandas.core.frame.DataFrame'>\n",
      "<class 'pandas.core.frame.DataFrame'>\n"
     ]
    }
   ],
   "source": [
    "# check all necessary dataframes are defined\n",
    "for path in TRAIN_PREFIX.glob(\"**/*\"):\n",
    "    if path:\n",
    "        exec(f\"print(type({path.stem}))\")"
   ]
  },
  {
   "cell_type": "code",
   "execution_count": null,
   "metadata": {},
   "outputs": [],
   "source": [
    "# Need to calculate daily rank of the stocks on closing\n"
   ]
  }
 ],
 "metadata": {
  "interpreter": {
   "hash": "a7dee0b64882e4cba3a8bbce34f5707dc67849174180fb32fb2d8d100a207ee5"
  },
  "kernelspec": {
   "display_name": "Python 3.9.6 ('py_data')",
   "language": "python",
   "name": "python3"
  },
  "language_info": {
   "codemirror_mode": {
    "name": "ipython",
    "version": 3
   },
   "file_extension": ".py",
   "mimetype": "text/x-python",
   "name": "python",
   "nbconvert_exporter": "python",
   "pygments_lexer": "ipython3",
   "version": "3.9.6"
  },
  "orig_nbformat": 4
 },
 "nbformat": 4,
 "nbformat_minor": 2
}
